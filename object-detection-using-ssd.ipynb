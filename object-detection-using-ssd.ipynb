{
 "cells": [
  {
   "cell_type": "code",
   "execution_count": null,
   "metadata": {
    "execution": {
     "iopub.execute_input": "2023-11-28T22:31:58.743684Z",
     "iopub.status.busy": "2023-11-28T22:31:58.742329Z",
     "iopub.status.idle": "2023-11-28T22:31:59.863412Z",
     "shell.execute_reply": "2023-11-28T22:31:59.862048Z",
     "shell.execute_reply.started": "2023-11-28T22:31:58.743589Z"
    }
   },
   "outputs": [],
   "source": [
    "!ls /kaggle/input/images | head"
   ]
  },
  {
   "cell_type": "code",
   "execution_count": null,
   "metadata": {
    "execution": {
     "iopub.execute_input": "2023-11-28T22:31:59.867117Z",
     "iopub.status.busy": "2023-11-28T22:31:59.866627Z",
     "iopub.status.idle": "2023-11-28T22:32:00.961137Z",
     "shell.execute_reply": "2023-11-28T22:32:00.959766Z",
     "shell.execute_reply.started": "2023-11-28T22:31:59.867072Z"
    }
   },
   "outputs": [],
   "source": [
    "!ls /kaggle/input/pascal-voc-xml | head"
   ]
  },
  {
   "cell_type": "markdown",
   "metadata": {},
   "source": [
    "## Installing libraries"
   ]
  },
  {
   "cell_type": "code",
   "execution_count": null,
   "metadata": {
    "execution": {
     "iopub.execute_input": "2023-11-28T22:32:00.963130Z",
     "iopub.status.busy": "2023-11-28T22:32:00.962791Z",
     "iopub.status.idle": "2023-11-28T22:33:19.877847Z",
     "shell.execute_reply": "2023-11-28T22:33:19.876696Z",
     "shell.execute_reply.started": "2023-11-28T22:32:00.963099Z"
    }
   },
   "outputs": [],
   "source": [
    "!pip install -U --pre tensorflow==\"2.*\"\n",
    "!pip install tf_slim"
   ]
  },
  {
   "cell_type": "markdown",
   "metadata": {},
   "source": [
    "## Making sure pycocotools is installed"
   ]
  },
  {
   "cell_type": "code",
   "execution_count": null,
   "metadata": {
    "execution": {
     "iopub.execute_input": "2023-11-28T22:33:19.881694Z",
     "iopub.status.busy": "2023-11-28T22:33:19.881310Z",
     "iopub.status.idle": "2023-11-28T22:33:33.476815Z",
     "shell.execute_reply": "2023-11-28T22:33:33.474435Z",
     "shell.execute_reply.started": "2023-11-28T22:33:19.881661Z"
    }
   },
   "outputs": [],
   "source": [
    "!pip install pycocotools"
   ]
  },
  {
   "cell_type": "markdown",
   "metadata": {},
   "source": [
    "## Cloning the TensorFlow Object Detection API"
   ]
  },
  {
   "cell_type": "code",
   "execution_count": null,
   "metadata": {
    "execution": {
     "iopub.execute_input": "2023-11-28T22:33:33.479563Z",
     "iopub.status.busy": "2023-11-28T22:33:33.478918Z",
     "iopub.status.idle": "2023-11-28T22:33:33.492429Z",
     "shell.execute_reply": "2023-11-28T22:33:33.490993Z",
     "shell.execute_reply.started": "2023-11-28T22:33:33.479528Z"
    }
   },
   "outputs": [],
   "source": [
    "import os\n",
    "import pathlib\n",
    "import subprocess\n",
    "\n",
    "# Create the ssd-object-detection directory and change into it\n",
    "os.makedirs(\"/kaggle/working/ssd-object-detection\", exist_ok=True)\n",
    "os.chdir(\"/kaggle/working/ssd-object-detection\")\n",
    "\n",
    "# Check if the current working directory is models or if models exists\n",
    "path = pathlib.Path.cwd()\n",
    "if \"models\" in path.parts:\n",
    "    while \"models\" in path.parts:\n",
    "        os.chdir('..')\n",
    "        path = pathlib.Path.cwd()\n",
    "\n",
    "if not pathlib.Path('models').exists():\n",
    "    subprocess.run([\"git\", \"clone\", \"--depth\", \"1\", \"https://github.com/tensorflow/models\"], check=True)\n",
    "else:\n",
    "    print(\"Git Repository already cloned. Skipping...\")"
   ]
  },
  {
   "cell_type": "markdown",
   "metadata": {},
   "source": [
    "## Compile all Protocol Buffer files in the object_detection/protos directory into Python code, allowing their structures to be used within the TensorFlow Object Detection API."
   ]
  },
  {
   "cell_type": "code",
   "execution_count": null,
   "metadata": {
    "execution": {
     "iopub.execute_input": "2023-11-28T22:33:35.826793Z",
     "iopub.status.busy": "2023-11-28T22:33:35.826149Z",
     "iopub.status.idle": "2023-11-28T22:33:35.867453Z",
     "shell.execute_reply": "2023-11-28T22:33:35.866431Z",
     "shell.execute_reply.started": "2023-11-28T22:33:35.826761Z"
    }
   },
   "outputs": [],
   "source": [
    "%%bash\n",
    "cd models/research/\n",
    "protoc object_detection/protos/*.proto --python_out=."
   ]
  },
  {
   "cell_type": "markdown",
   "metadata": {},
   "source": [
    "## Copy the setup file for the Object Detection API, and then install it using pip."
   ]
  },
  {
   "cell_type": "code",
   "execution_count": null,
   "metadata": {
    "execution": {
     "iopub.execute_input": "2023-11-28T22:33:35.869301Z",
     "iopub.status.busy": "2023-11-28T22:33:35.868963Z",
     "iopub.status.idle": "2023-11-28T22:33:35.873719Z",
     "shell.execute_reply": "2023-11-28T22:33:35.872919Z",
     "shell.execute_reply.started": "2023-11-28T22:33:35.869272Z"
    }
   },
   "outputs": [],
   "source": [
    "%%bash\n",
    "cp /kaggle/working/ssd-object-detection/models/research/object_detection/packages/tf2/setup.py /kaggle/working/ssd-object-detection/models/research/\n",
    "cd /kaggle/working/ssd-object-detection/models/research\n",
    "pip install ."
   ]
  },
  {
   "cell_type": "markdown",
   "metadata": {},
   "source": [
    "## Imports"
   ]
  },
  {
   "cell_type": "code",
   "execution_count": null,
   "metadata": {
    "execution": {
     "iopub.status.busy": "2023-11-28T22:33:36.158559Z",
     "iopub.status.idle": "2023-11-28T22:33:36.159008Z",
     "shell.execute_reply": "2023-11-28T22:33:36.158830Z",
     "shell.execute_reply.started": "2023-11-28T22:33:36.158803Z"
    }
   },
   "outputs": [],
   "source": [
    "import os\n",
    "import numpy as np\n",
    "import pandas as pd\n",
    "import shutil\n",
    "import random\n",
    "import subprocess\n",
    "import tarfile\n",
    "import urllib.request\n",
    "from io import BytesIO\n",
    "from glob import glob\n",
    "from collections import defaultdict\n",
    "import xml.etree.ElementTree as ET\n",
    "from PIL import Image, ImageDraw\n",
    "from IPython.display import display, Image as IPImage\n",
    "import matplotlib.pyplot as plt\n",
    "from matplotlib import patches\n",
    "import tensorflow as tf\n",
    "\n"
   ]
  },
  {
   "cell_type": "markdown",
   "metadata": {},
   "source": [
    "## Define the directories"
   ]
  },
  {
   "cell_type": "code",
   "execution_count": null,
   "metadata": {
    "execution": {
     "iopub.status.busy": "2023-11-28T22:33:36.160764Z",
     "iopub.status.idle": "2023-11-28T22:33:36.161153Z",
     "shell.execute_reply": "2023-11-28T22:33:36.160982Z",
     "shell.execute_reply.started": "2023-11-28T22:33:36.160964Z"
    }
   },
   "outputs": [],
   "source": [
    "xml_read_dir = '/kaggle/input/pascal-voc-xml'  # Read-only directory\n",
    "xml_write_dir = '/kaggle/working/ssd-object-detection/pascal-voc-xml'  # Writable directory\n",
    "image_dir = '/kaggle/input/images'\n",
    "TF_MODEL_GARDEN_DIR = \"/kaggle/working/ssd-object-detection\""
   ]
  },
  {
   "cell_type": "markdown",
   "metadata": {},
   "source": [
    "## Script to update the paths in the XML files to point to the correct locations of the images"
   ]
  },
  {
   "cell_type": "code",
   "execution_count": null,
   "metadata": {
    "execution": {
     "iopub.status.busy": "2023-11-28T22:33:36.163241Z",
     "iopub.status.idle": "2023-11-28T22:33:36.163878Z",
     "shell.execute_reply": "2023-11-28T22:33:36.163688Z",
     "shell.execute_reply.started": "2023-11-28T22:33:36.163666Z"
    }
   },
   "outputs": [],
   "source": [
    "# Create the writable XML directory if it doesn't exist\n",
    "os.makedirs(xml_write_dir, exist_ok=True)\n",
    "\n",
    "# Iterate over the XML files and update the path\n",
    "for xml_file in os.listdir(xml_read_dir):\n",
    "    if xml_file.endswith('.xml'):\n",
    "        read_xml_path = os.path.join(xml_read_dir, xml_file)\n",
    "        write_xml_path = os.path.join(xml_write_dir, xml_file)\n",
    "\n",
    "        # Parse the XML file\n",
    "        tree = ET.parse(read_xml_path)\n",
    "        root = tree.getroot()\n",
    "\n",
    "        # Extract the filename\n",
    "        image_filename = root.find('filename').text\n",
    "\n",
    "        # Construct the new path\n",
    "        new_path = os.path.join(image_dir, image_filename)\n",
    "\n",
    "        # Update the path in the XML\n",
    "        for path_element in root.iter('path'):\n",
    "            path_element.text = new_path\n",
    "\n",
    "        # Save the changes to the writable directory\n",
    "        tree.write(write_xml_path)\n",
    "\n",
    "print(\"XML paths have been updated.\")\n"
   ]
  },
  {
   "cell_type": "markdown",
   "metadata": {},
   "source": [
    "## Script to draw bounding boxes around defect types on images"
   ]
  },
  {
   "cell_type": "code",
   "execution_count": null,
   "metadata": {
    "execution": {
     "iopub.status.busy": "2023-11-28T22:33:36.167199Z",
     "iopub.status.idle": "2023-11-28T22:33:36.168036Z",
     "shell.execute_reply": "2023-11-28T22:33:36.167841Z",
     "shell.execute_reply.started": "2023-11-28T22:33:36.167808Z"
    }
   },
   "outputs": [],
   "source": [
    "def draw_bounding_boxes(image_folder, xml_folder, output_folder):\n",
    "    for xml_file in os.listdir(xml_folder):\n",
    "        if xml_file.endswith('.xml'):\n",
    "            xml_path = os.path.join(xml_folder, xml_file)\n",
    "            tree = ET.parse(xml_path)\n",
    "            root = tree.getroot()\n",
    "\n",
    "            # Extract the filename\n",
    "            filename = root.find('filename').text\n",
    "            image_path = os.path.join(image_folder, filename)\n",
    "\n",
    "            try:\n",
    "                # Attempt to open the image\n",
    "                image = Image.open(image_path)\n",
    "            except FileNotFoundError:\n",
    "                print(f\"Image file not found, deleting XML file: {xml_path}\")\n",
    "                os.remove(xml_path)  # Delete the XML file\n",
    "                continue  # Skip to the next XML file\n",
    "\n",
    "            draw = ImageDraw.Draw(image)\n",
    "\n",
    "            # Iterate through each object in the XML and draw the bounding boxes\n",
    "            for obj in root.iter('object'):\n",
    "                bbox = obj.find('bndbox')\n",
    "                xmin = int(bbox.find('xmin').text)\n",
    "                ymin = int(bbox.find('ymin').text)\n",
    "                xmax = int(bbox.find('xmax').text)\n",
    "                ymax = int(bbox.find('ymax').text)\n",
    "\n",
    "                # Draw the bounding box\n",
    "                draw.rectangle(((xmin, ymin), (xmax, ymax)), outline=\"red\", width=3)\n",
    "\n",
    "            # Save the image with bounding boxes\n",
    "            output_path = os.path.join(output_folder, filename)\n",
    "            image.save(output_path)"
   ]
  },
  {
   "cell_type": "code",
   "execution_count": null,
   "metadata": {
    "execution": {
     "iopub.status.busy": "2023-11-28T22:33:36.169379Z",
     "iopub.status.idle": "2023-11-28T22:33:36.170216Z",
     "shell.execute_reply": "2023-11-28T22:33:36.170011Z",
     "shell.execute_reply.started": "2023-11-28T22:33:36.169990Z"
    }
   },
   "outputs": [],
   "source": [
    "imgs_bbox_output = '/kaggle/working/ssd-object-detection/imgs_bbox_output'\n",
    "os.makedirs(imgs_bbox_output, exist_ok=True)\n",
    "draw_bounding_boxes(image_dir, xml_write_dir, imgs_bbox_output)"
   ]
  },
  {
   "cell_type": "code",
   "execution_count": null,
   "metadata": {
    "execution": {
     "iopub.status.busy": "2023-11-28T22:33:36.171438Z",
     "iopub.status.idle": "2023-11-28T22:33:36.171920Z",
     "shell.execute_reply": "2023-11-28T22:33:36.171743Z",
     "shell.execute_reply.started": "2023-11-28T22:33:36.171723Z"
    }
   },
   "outputs": [],
   "source": [
    "from PIL import Image\n",
    "import os\n",
    "from IPython.display import display\n",
    "\n",
    "# Iterate over each image file in the directory\n",
    "for image_file in random.sample(os.listdir(imgs_bbox_output), 4):\n",
    "    if image_file.lower().endswith(('.png', '.jpg', '.jpeg')):\n",
    "        image_path = os.path.join(imgs_bbox_output, image_file)\n",
    "        \n",
    "        # Load and display the image\n",
    "        with Image.open(image_path) as img:\n",
    "            display(img)\n"
   ]
  },
  {
   "cell_type": "markdown",
   "metadata": {},
   "source": [
    "## Creating a workspace"
   ]
  },
  {
   "cell_type": "code",
   "execution_count": null,
   "metadata": {
    "execution": {
     "iopub.status.busy": "2023-11-28T22:33:36.176931Z",
     "iopub.status.idle": "2023-11-28T22:33:36.177311Z",
     "shell.execute_reply": "2023-11-28T22:33:36.177145Z",
     "shell.execute_reply.started": "2023-11-28T22:33:36.177127Z"
    }
   },
   "outputs": [],
   "source": [
    "!mkdir -p /kaggle/working/ssd-object-detection/workspace/training_demo/annotations\n",
    "!mkdir -p /kaggle/working/ssd-object-detection/workspace/training_demo/exported-models/my-model\n",
    "!mkdir -p /kaggle/working/ssd-object-detection/workspace/training_demo/images\n",
    "!mkdir -p /kaggle/working/ssd-object-detection/workspace/training_demo/images/train\n",
    "!mkdir -p /kaggle/working/ssd-object-detection/workspace/training_demo/images/test\n",
    "!mkdir -p /kaggle/working/ssd-object-detection/workspace/training_demo/xml/train\n",
    "!mkdir -p /kaggle/working/ssd-object-detection/workspace/training_demo/xml/test\n",
    "!mkdir -p /kaggle/working/ssd-object-detection/workspace/training_demo/models\n",
    "!mkdir -p /kaggle/working/ssd-object-detection/workspace/training_demo/pre-trained-models\n",
    "!mkdir -p /kaggle/working/ssd-object-detection/workspace/bugfix/"
   ]
  },
  {
   "cell_type": "code",
   "execution_count": null,
   "metadata": {
    "execution": {
     "iopub.status.busy": "2023-11-28T22:33:36.178516Z",
     "iopub.status.idle": "2023-11-28T22:33:36.178920Z",
     "shell.execute_reply": "2023-11-28T22:33:36.178747Z",
     "shell.execute_reply.started": "2023-11-28T22:33:36.178728Z"
    }
   },
   "outputs": [],
   "source": [
    "!ls /kaggle/working/ssd-object-detection/workspace"
   ]
  },
  {
   "cell_type": "markdown",
   "metadata": {},
   "source": [
    "## Changing to the working directory"
   ]
  },
  {
   "cell_type": "code",
   "execution_count": null,
   "metadata": {
    "execution": {
     "iopub.status.busy": "2023-11-28T22:33:36.180757Z",
     "iopub.status.idle": "2023-11-28T22:33:36.181318Z",
     "shell.execute_reply": "2023-11-28T22:33:36.181056Z",
     "shell.execute_reply.started": "2023-11-28T22:33:36.181031Z"
    }
   },
   "outputs": [],
   "source": [
    "os.chdir(TF_MODEL_GARDEN_DIR)\n",
    "!ls"
   ]
  },
  {
   "cell_type": "markdown",
   "metadata": {},
   "source": [
    "## Test whether the model builder for TensorFlow 2.x is working correctly"
   ]
  },
  {
   "cell_type": "code",
   "execution_count": null,
   "metadata": {
    "execution": {
     "iopub.status.busy": "2023-11-28T22:33:36.182472Z",
     "iopub.status.idle": "2023-11-28T22:33:36.183015Z",
     "shell.execute_reply": "2023-11-28T22:33:36.182760Z",
     "shell.execute_reply.started": "2023-11-28T22:33:36.182735Z"
    }
   },
   "outputs": [],
   "source": [
    "# From within TensorFlow/models/research/\n",
    "!python models/research/object_detection/builders/model_builder_tf2_test.py"
   ]
  },
  {
   "cell_type": "markdown",
   "metadata": {},
   "source": [
    "## Copy images from the /kaggle/input to /kaggle/working"
   ]
  },
  {
   "cell_type": "code",
   "execution_count": null,
   "metadata": {
    "execution": {
     "iopub.status.busy": "2023-11-28T22:33:36.184337Z",
     "iopub.status.idle": "2023-11-28T22:33:36.184871Z",
     "shell.execute_reply": "2023-11-28T22:33:36.184624Z",
     "shell.execute_reply.started": "2023-11-28T22:33:36.184583Z"
    }
   },
   "outputs": [],
   "source": [
    "training_images_dir = os.path.join(TF_MODEL_GARDEN_DIR, \"workspace/training_demo/images\")\n",
    "for file in glob(os.path.join(image_dir, '*')):\n",
    "    shutil.copy(file, training_images_dir)\n",
    "print(\"First 10 files in the training images directory:\")\n",
    "print(os.listdir(training_images_dir)[:10])"
   ]
  },
  {
   "cell_type": "markdown",
   "metadata": {},
   "source": [
    "## Split the dataset into the training set and the testing set"
   ]
  },
  {
   "cell_type": "code",
   "execution_count": null,
   "metadata": {
    "execution": {
     "iopub.status.busy": "2023-11-28T22:33:36.186202Z",
     "iopub.status.idle": "2023-11-28T22:33:36.186806Z",
     "shell.execute_reply": "2023-11-28T22:33:36.186511Z",
     "shell.execute_reply.started": "2023-11-28T22:33:36.186484Z"
    }
   },
   "outputs": [],
   "source": [
    "!ls /kaggle/input/python-utils"
   ]
  },
  {
   "cell_type": "code",
   "execution_count": null,
   "metadata": {
    "execution": {
     "iopub.status.busy": "2023-11-28T22:33:36.188030Z",
     "iopub.status.idle": "2023-11-28T22:33:36.188562Z",
     "shell.execute_reply": "2023-11-28T22:33:36.188315Z",
     "shell.execute_reply.started": "2023-11-28T22:33:36.188289Z"
    }
   },
   "outputs": [],
   "source": [
    "!mkdir -p /kaggle/working/ssd-object-detection/scripts/preprocessing\n",
    "!cp /kaggle/input/python-utils/* /kaggle/working/ssd-object-detection/scripts/preprocessing"
   ]
  },
  {
   "cell_type": "code",
   "execution_count": null,
   "metadata": {
    "execution": {
     "iopub.status.busy": "2023-11-28T22:33:36.190041Z",
     "iopub.status.idle": "2023-11-28T22:33:36.190578Z",
     "shell.execute_reply": "2023-11-28T22:33:36.190327Z",
     "shell.execute_reply.started": "2023-11-28T22:33:36.190302Z"
    }
   },
   "outputs": [],
   "source": [
    "input_dir = os.path.join(TF_MODEL_GARDEN_DIR, \"workspace/training_demo/images\")\n",
    "split_dataset_script = os.path.join(TF_MODEL_GARDEN_DIR, \"scripts\", \"preprocessing\", \"split_dataset.py\")\n",
    "command = ['python', split_dataset_script, '--input', input_dir, '--train_ratio', '0.8']\n",
    "subprocess.run(command)"
   ]
  },
  {
   "cell_type": "markdown",
   "metadata": {},
   "source": [
    "## Create train and test folders for the XML files"
   ]
  },
  {
   "cell_type": "code",
   "execution_count": null,
   "metadata": {
    "execution": {
     "iopub.status.busy": "2023-11-28T22:33:36.192229Z",
     "iopub.status.idle": "2023-11-28T22:33:36.192758Z",
     "shell.execute_reply": "2023-11-28T22:33:36.192512Z",
     "shell.execute_reply.started": "2023-11-28T22:33:36.192487Z"
    }
   },
   "outputs": [],
   "source": [
    "def sort_xml_files(xml_dir, train_img_dir, test_img_dir, output_dir):\n",
    "    # Create output directories for train and test XML files\n",
    "    train_xml_dir = os.path.join(output_dir, 'train')\n",
    "    test_xml_dir = os.path.join(output_dir, 'test')\n",
    "    os.makedirs(train_xml_dir, exist_ok=True)\n",
    "    os.makedirs(test_xml_dir, exist_ok=True)\n",
    "\n",
    "    # Iterate through each XML file\n",
    "    for xml_file in os.listdir(xml_dir):\n",
    "        if xml_file.endswith('.xml'):\n",
    "            xml_path = os.path.join(xml_dir, xml_file)\n",
    "            tree = ET.parse(xml_path)\n",
    "            root = tree.getroot()\n",
    "\n",
    "            # Get the filename of the image referenced in the XML file\n",
    "            filename = root.find('filename').text\n",
    "\n",
    "            # Check if this image is in train or test directory and move XML file accordingly\n",
    "            if os.path.exists(os.path.join(train_img_dir, filename)):\n",
    "                shutil.move(xml_path, os.path.join(train_xml_dir, xml_file))\n",
    "            elif os.path.exists(os.path.join(test_img_dir, filename)):\n",
    "                shutil.move(xml_path, os.path.join(test_xml_dir, xml_file))\n",
    "            else:\n",
    "                print(f\"Image for {xml_file} not found in train or test directories.\")"
   ]
  },
  {
   "cell_type": "code",
   "execution_count": null,
   "metadata": {
    "execution": {
     "iopub.status.busy": "2023-11-28T22:33:36.193930Z",
     "iopub.status.idle": "2023-11-28T22:33:36.194306Z",
     "shell.execute_reply": "2023-11-28T22:33:36.194126Z",
     "shell.execute_reply.started": "2023-11-28T22:33:36.194108Z"
    }
   },
   "outputs": [],
   "source": [
    "train_img_dir = os.path.join(TF_MODEL_GARDEN_DIR, \"workspace/training_demo/images/train\")\n",
    "test_img_dir = os.path.join(TF_MODEL_GARDEN_DIR, \"workspace/training_demo/images/test\")\n",
    "xml_output_dir = os.path.join(TF_MODEL_GARDEN_DIR, \"workspace/training_demo/xml\")\n",
    "os.makedirs(xml_output_dir, exist_ok=True)\n",
    "sort_xml_files(xml_write_dir, train_img_dir, test_img_dir, xml_output_dir)"
   ]
  },
  {
   "cell_type": "markdown",
   "metadata": {},
   "source": [
    "## Create a label map in the workspace/training_demo/annotations directory"
   ]
  },
  {
   "cell_type": "code",
   "execution_count": null,
   "metadata": {
    "execution": {
     "iopub.status.busy": "2023-11-28T22:33:36.195706Z",
     "iopub.status.idle": "2023-11-28T22:33:36.196074Z",
     "shell.execute_reply": "2023-11-28T22:33:36.195907Z",
     "shell.execute_reply.started": "2023-11-28T22:33:36.195890Z"
    }
   },
   "outputs": [],
   "source": [
    "annotations_dir = os.path.join(TF_MODEL_GARDEN_DIR, \"workspace/training_demo/annotations\")"
   ]
  },
  {
   "cell_type": "code",
   "execution_count": null,
   "metadata": {
    "execution": {
     "iopub.status.busy": "2023-11-28T22:33:36.196925Z",
     "iopub.status.idle": "2023-11-28T22:33:36.197289Z",
     "shell.execute_reply": "2023-11-28T22:33:36.197116Z",
     "shell.execute_reply.started": "2023-11-28T22:33:36.197100Z"
    }
   },
   "outputs": [],
   "source": [
    "label_map = \"\"\"\n",
    "item {\n",
    "  id: 1\n",
    "  name: 'Bicycle'\n",
    "}\n",
    "item {\n",
    "  id: 2\n",
    "  name: 'cat'\n",
    "}\n",
    "item {\n",
    "  id: 3\n",
    "  name: 'dog'\n",
    "}\n",
    "item {\n",
    "  id: 4\n",
    "  name: 'Female'\n",
    "}\n",
    "item {\n",
    "  id: 5\n",
    "  name: 'Male'\n",
    "}\n",
    "\"\"\"\n",
    "\n",
    "# Write the label map to a file\n",
    "with open(os.path.join(annotations_dir, 'label_map.pbtxt'), 'w') as file:\n",
    "    file.write(label_map)\n",
    "\n",
    "print(\"Label map created and saved.\")\n"
   ]
  },
  {
   "cell_type": "markdown",
   "metadata": {},
   "source": [
    "## Create TensorFlow Records\n",
    "\n",
    "Convert *.xml to *.record\n"
   ]
  },
  {
   "cell_type": "code",
   "execution_count": null,
   "metadata": {
    "execution": {
     "iopub.status.busy": "2023-11-28T22:33:36.199475Z",
     "iopub.status.idle": "2023-11-28T22:33:36.199848Z",
     "shell.execute_reply": "2023-11-28T22:33:36.199682Z",
     "shell.execute_reply.started": "2023-11-28T22:33:36.199665Z"
    }
   },
   "outputs": [],
   "source": [
    "# Define the paths\n",
    "xml_dir_train = os.path.join(xml_output_dir, \"train\")\n",
    "xml_dir_test = os.path.join(xml_output_dir, \"test\")\n",
    "labels_path = os.path.join(TF_MODEL_GARDEN_DIR, \"workspace/training_demo/annotations/label_map.pbtxt\")\n",
    "output_path_train = os.path.join(TF_MODEL_GARDEN_DIR, \"workspace/training_demo/annotations/train.record\")\n",
    "output_path_test = os.path.join(TF_MODEL_GARDEN_DIR, \"workspace/training_demo/annotations/test.record\")\n",
    "image_dir_train = os.path.join(TF_MODEL_GARDEN_DIR, \"workspace/training_demo/images/train\")\n",
    "image_dir_test = os.path.join(TF_MODEL_GARDEN_DIR, \"workspace/training_demo/images/test\")\n",
    "preprocessing_dir = os.path.join(TF_MODEL_GARDEN_DIR, \"scripts/preprocessing\")\n",
    "script_path = os.path.join(preprocessing_dir, 'generate_tfrecord.py')"
   ]
  },
  {
   "cell_type": "markdown",
   "metadata": {},
   "source": [
    "### train.record"
   ]
  },
  {
   "cell_type": "code",
   "execution_count": null,
   "metadata": {
    "execution": {
     "iopub.status.busy": "2023-11-28T22:33:36.201192Z",
     "iopub.status.idle": "2023-11-28T22:33:36.201568Z",
     "shell.execute_reply": "2023-11-28T22:33:36.201402Z",
     "shell.execute_reply.started": "2023-11-28T22:33:36.201385Z"
    }
   },
   "outputs": [],
   "source": [
    "# Prepare the command for generate TFRecords on the training data\n",
    "train_command = [\n",
    "    'python', script_path,\n",
    "    '--xml_dir', xml_dir_train,\n",
    "    '--labels_path', labels_path,\n",
    "    '--output_path', output_path_train,\n",
    "    '--image_dir', image_dir_train\n",
    "]\n",
    "\n",
    "# Execute the command\n",
    "subprocess.run(train_command, check=True)"
   ]
  },
  {
   "cell_type": "markdown",
   "metadata": {},
   "source": [
    "### test.record"
   ]
  },
  {
   "cell_type": "code",
   "execution_count": null,
   "metadata": {
    "execution": {
     "iopub.status.busy": "2023-11-28T22:33:36.202850Z",
     "iopub.status.idle": "2023-11-28T22:33:36.203255Z",
     "shell.execute_reply": "2023-11-28T22:33:36.203067Z",
     "shell.execute_reply.started": "2023-11-28T22:33:36.203045Z"
    }
   },
   "outputs": [],
   "source": [
    "# Prepare the command for generate TFRecords on the training data\n",
    "test_command = [\n",
    "    'python', script_path,\n",
    "    '--xml_dir', xml_dir_test,\n",
    "    '--labels_path', labels_path,\n",
    "    '--output_path', output_path_test,\n",
    "    '--image_dir', image_dir_test\n",
    "]\n",
    "\n",
    "# Execute the command\n",
    "subprocess.run(test_command, check=True)"
   ]
  },
  {
   "cell_type": "code",
   "execution_count": null,
   "metadata": {
    "execution": {
     "iopub.status.busy": "2023-11-28T22:33:36.204205Z",
     "iopub.status.idle": "2023-11-28T22:33:36.204570Z",
     "shell.execute_reply": "2023-11-28T22:33:36.204406Z",
     "shell.execute_reply.started": "2023-11-28T22:33:36.204389Z"
    }
   },
   "outputs": [],
   "source": [
    "os.listdir(os.path.join(TF_MODEL_GARDEN_DIR, \"workspace/training_demo/annotations\"))"
   ]
  },
  {
   "cell_type": "markdown",
   "metadata": {},
   "source": [
    "## Downloading the pre-trained model"
   ]
  },
  {
   "cell_type": "code",
   "execution_count": null,
   "metadata": {
    "execution": {
     "iopub.status.busy": "2023-11-28T22:33:36.205995Z",
     "iopub.status.idle": "2023-11-28T22:33:36.206375Z",
     "shell.execute_reply": "2023-11-28T22:33:36.206192Z",
     "shell.execute_reply.started": "2023-11-28T22:33:36.206175Z"
    }
   },
   "outputs": [],
   "source": [
    "# Define the URL and the destination directory\n",
    "model_url = \"http://download.tensorflow.org/models/object_detection/tf2/20200711/ssd_resnet50_v1_fpn_640x640_coco17_tpu-8.tar.gz\"\n",
    "destination_dir = \"/kaggle/working/ssd-object-detection/workspace/training_demo/pre-trained-models\"\n",
    "\n",
    "# Create the directory if it doesn't exist\n",
    "if not os.path.exists(destination_dir):\n",
    "    os.makedirs(destination_dir)\n",
    "\n",
    "# Define the full path for the downloaded file\n",
    "download_path = os.path.join(destination_dir, \"ssd_resnet50_v1_fpn_640x640_coco17_tpu-8.tar.gz\")\n",
    "\n",
    "# Download the model\n",
    "urllib.request.urlretrieve(model_url, download_path)\n",
    "\n",
    "# Extract the model\n",
    "with tarfile.open(download_path, \"r:gz\") as tar:\n",
    "    tar.extractall(path=destination_dir)\n",
    "\n",
    "# Clean up by removing the downloaded tar.gz file\n",
    "os.remove(download_path)\n",
    "\n",
    "# List the contents of the directory to verify\n",
    "os.listdir(destination_dir)\n"
   ]
  },
  {
   "cell_type": "markdown",
   "metadata": {},
   "source": [
    "## Create a directory for the custom model"
   ]
  },
  {
   "cell_type": "code",
   "execution_count": null,
   "metadata": {
    "execution": {
     "iopub.status.busy": "2023-11-28T22:33:36.207335Z",
     "iopub.status.idle": "2023-11-28T22:33:36.207759Z",
     "shell.execute_reply": "2023-11-28T22:33:36.207566Z",
     "shell.execute_reply.started": "2023-11-28T22:33:36.207549Z"
    }
   },
   "outputs": [],
   "source": [
    "!mkdir -p /kaggle/working/ssd-object-detection/workspace/training_demo/models/ssd_resnet50_v1_fpn"
   ]
  },
  {
   "cell_type": "markdown",
   "metadata": {},
   "source": [
    "## Configure the Training Pipeline"
   ]
  },
  {
   "cell_type": "code",
   "execution_count": null,
   "metadata": {
    "execution": {
     "iopub.status.busy": "2023-11-28T22:33:36.210742Z",
     "iopub.status.idle": "2023-11-28T22:33:36.211103Z",
     "shell.execute_reply": "2023-11-28T22:33:36.210936Z",
     "shell.execute_reply.started": "2023-11-28T22:33:36.210919Z"
    }
   },
   "outputs": [],
   "source": [
    "!ls /kaggle/working/ssd-object-detection/workspace/training_demo/pre-trained-models/ssd_resnet50_v1_fpn_640x640_coco17_tpu-8"
   ]
  },
  {
   "cell_type": "code",
   "execution_count": null,
   "metadata": {
    "execution": {
     "iopub.status.busy": "2023-11-28T22:33:36.212173Z",
     "iopub.status.idle": "2023-11-28T22:33:36.212542Z",
     "shell.execute_reply": "2023-11-28T22:33:36.212375Z",
     "shell.execute_reply.started": "2023-11-28T22:33:36.212358Z"
    }
   },
   "outputs": [],
   "source": [
    "!cp /kaggle/working/ssd-object-detection/workspace/training_demo/pre-trained-models/ssd_resnet50_v1_fpn_640x640_coco17_tpu-8/pipeline.config /kaggle/working/ssd-object-detection/workspace/training_demo/models/ssd_resnet50_v1_fpn"
   ]
  },
  {
   "cell_type": "code",
   "execution_count": null,
   "metadata": {
    "execution": {
     "iopub.status.busy": "2023-11-28T22:33:36.213580Z",
     "iopub.status.idle": "2023-11-28T22:33:36.213953Z",
     "shell.execute_reply": "2023-11-28T22:33:36.213788Z",
     "shell.execute_reply.started": "2023-11-28T22:33:36.213771Z"
    }
   },
   "outputs": [],
   "source": [
    "# %load /kaggle/working/ssd-object-detection/workspace/training_demo/pre-trained-models/ssd_resnet50_v1_fpn_640x640_coco17_tpu-8/pipeline.config"
   ]
  },
  {
   "cell_type": "code",
   "execution_count": null,
   "metadata": {
    "execution": {
     "iopub.status.busy": "2023-11-28T22:33:36.214801Z",
     "iopub.status.idle": "2023-11-28T22:33:36.215178Z",
     "shell.execute_reply": "2023-11-28T22:33:36.214991Z",
     "shell.execute_reply.started": "2023-11-28T22:33:36.214974Z"
    }
   },
   "outputs": [],
   "source": [
    "%%writefile /kaggle/working/ssd-object-detection/workspace/training_demo/models/ssd_resnet50_v1_fpn/pipeline.config\n",
    "model {\n",
    "  ssd {\n",
    "    num_classes: 5\n",
    "    image_resizer {\n",
    "      fixed_shape_resizer {\n",
    "        height: 224\n",
    "        width: 224\n",
    "      }\n",
    "    }\n",
    "    feature_extractor {\n",
    "      type: \"ssd_resnet50_v1_fpn_keras\"\n",
    "      depth_multiplier: 1.0\n",
    "      min_depth: 16\n",
    "      conv_hyperparams {\n",
    "        regularizer {\n",
    "          l2_regularizer {\n",
    "            weight: 0.00039999998989515007\n",
    "          }\n",
    "        }\n",
    "        initializer {\n",
    "          truncated_normal_initializer {\n",
    "            mean: 0.0\n",
    "            stddev: 0.029999999329447746\n",
    "          }\n",
    "        }\n",
    "        activation: RELU_6\n",
    "        batch_norm {\n",
    "          decay: 0.996999979019165\n",
    "          scale: true\n",
    "          epsilon: 0.0010000000474974513\n",
    "        }\n",
    "      }\n",
    "      override_base_feature_extractor_hyperparams: true\n",
    "      fpn {\n",
    "        min_level: 3\n",
    "        max_level: 7\n",
    "      }\n",
    "    }\n",
    "    box_coder {\n",
    "      faster_rcnn_box_coder {\n",
    "        y_scale: 10.0\n",
    "        x_scale: 10.0\n",
    "        height_scale: 5.0\n",
    "        width_scale: 5.0\n",
    "      }\n",
    "    }\n",
    "    matcher {\n",
    "      argmax_matcher {\n",
    "        matched_threshold: 0.5\n",
    "        unmatched_threshold: 0.5\n",
    "        ignore_thresholds: false\n",
    "        negatives_lower_than_unmatched: true\n",
    "        force_match_for_each_row: true\n",
    "        use_matmul_gather: true\n",
    "      }\n",
    "    }\n",
    "    similarity_calculator {\n",
    "      iou_similarity {\n",
    "      }\n",
    "    }\n",
    "    box_predictor {\n",
    "      weight_shared_convolutional_box_predictor {\n",
    "        conv_hyperparams {\n",
    "          regularizer {\n",
    "            l2_regularizer {\n",
    "              weight: 0.00039999998989515007\n",
    "            }\n",
    "          }\n",
    "          initializer {\n",
    "            random_normal_initializer {\n",
    "              mean: 0.0\n",
    "              stddev: 0.009999999776482582\n",
    "            }\n",
    "          }\n",
    "          activation: RELU_6\n",
    "          batch_norm {\n",
    "            decay: 0.996999979019165\n",
    "            scale: true\n",
    "            epsilon: 0.0010000000474974513\n",
    "          }\n",
    "        }\n",
    "        depth: 256\n",
    "        num_layers_before_predictor: 4\n",
    "        kernel_size: 3\n",
    "        class_prediction_bias_init: -4.599999904632568\n",
    "      }\n",
    "    }\n",
    "    anchor_generator {\n",
    "      multiscale_anchor_generator {\n",
    "        min_level: 3\n",
    "        max_level: 7\n",
    "        anchor_scale: 4.0\n",
    "        aspect_ratios: 1.0\n",
    "        aspect_ratios: 2.0\n",
    "        aspect_ratios: 0.5\n",
    "        scales_per_octave: 2\n",
    "      }\n",
    "    }\n",
    "    post_processing {\n",
    "      batch_non_max_suppression {\n",
    "        score_threshold: 9.99999993922529e-09\n",
    "        iou_threshold: 0.6000000238418579\n",
    "        max_detections_per_class: 100\n",
    "        max_total_detections: 100\n",
    "        use_static_shapes: false\n",
    "      }\n",
    "      score_converter: SIGMOID\n",
    "    }\n",
    "    normalize_loss_by_num_matches: true\n",
    "    loss {\n",
    "      localization_loss {\n",
    "        weighted_smooth_l1 {\n",
    "        }\n",
    "      }\n",
    "      classification_loss {\n",
    "        weighted_sigmoid_focal {\n",
    "          gamma: 2.0\n",
    "          alpha: 0.25\n",
    "        }\n",
    "      }\n",
    "      classification_weight: 1.0\n",
    "      localization_weight: 1.0\n",
    "    }\n",
    "    encode_background_as_zeros: true\n",
    "    normalize_loc_loss_by_codesize: true\n",
    "    inplace_batchnorm_update: true\n",
    "    freeze_batchnorm: false\n",
    "  }\n",
    "}\n",
    "train_config {\n",
    "  batch_size: 4\n",
    "  data_augmentation_options {\n",
    "    random_horizontal_flip {\n",
    "    }\n",
    "  }\n",
    "  data_augmentation_options {\n",
    "    random_crop_image {\n",
    "      min_object_covered: 0.0\n",
    "      min_aspect_ratio: 0.75\n",
    "      max_aspect_ratio: 3.0\n",
    "      min_area: 0.75\n",
    "      max_area: 1.0\n",
    "      overlap_thresh: 0.0\n",
    "    }\n",
    "  }\n",
    "  sync_replicas: true\n",
    "  optimizer {\n",
    "    momentum_optimizer {\n",
    "      learning_rate {\n",
    "        cosine_decay_learning_rate {\n",
    "          learning_rate_base: 0.03999999910593033\n",
    "          total_steps: 25000\n",
    "          warmup_learning_rate: 0.013333000242710114\n",
    "          warmup_steps: 2000\n",
    "        }\n",
    "      }\n",
    "      momentum_optimizer_value: 0.8999999761581421\n",
    "    }\n",
    "    use_moving_average: false\n",
    "  }\n",
    "  fine_tune_checkpoint: \"workspace/training_demo/pre-trained-models/ssd_resnet50_v1_fpn_640x640_coco17_tpu-8/checkpoint/ckpt-0\"\n",
    "  num_steps: 15000\n",
    "  startup_delay_steps: 0.0\n",
    "  replicas_to_aggregate: 8\n",
    "  max_number_of_boxes: 100\n",
    "  unpad_groundtruth_tensors: false\n",
    "  fine_tune_checkpoint_type: \"detection\"\n",
    "  use_bfloat16: false\n",
    "  fine_tune_checkpoint_version: V2\n",
    "}\n",
    "train_input_reader {\n",
    "  label_map_path: \"workspace/training_demo/annotations/label_map.pbtxt\"\n",
    "  tf_record_input_reader {\n",
    "    input_path: \"workspace/training_demo/annotations/train.record\"\n",
    "  }\n",
    "}\n",
    "eval_config {\n",
    "  metrics_set: \"coco_detection_metrics\"\n",
    "  use_moving_averages: false\n",
    "}\n",
    "eval_input_reader {\n",
    "  label_map_path: \"workspace/training_demo/annotations/label_map.pbtxt\"\n",
    "  shuffle: false\n",
    "  num_epochs: 1\n",
    "  tf_record_input_reader {\n",
    "    input_path: \"workspace/training_demo/annotations/test.record\"\n",
    "  }\n",
    "}\n"
   ]
  },
  {
   "cell_type": "markdown",
   "metadata": {},
   "source": [
    "## Replace the python3.x/site-packages/tf_slim/data/tfexample_decoder.py script with the file at workspace/bug_fix/tfexample_decoder.py"
   ]
  },
  {
   "cell_type": "code",
   "execution_count": null,
   "metadata": {
    "execution": {
     "iopub.status.busy": "2023-11-28T22:33:36.216076Z",
     "iopub.status.idle": "2023-11-28T22:33:36.216444Z",
     "shell.execute_reply": "2023-11-28T22:33:36.216278Z",
     "shell.execute_reply.started": "2023-11-28T22:33:36.216261Z"
    }
   },
   "outputs": [],
   "source": [
    "!find / -name tfexample_decoder.py 2>/dev/null"
   ]
  },
  {
   "cell_type": "code",
   "execution_count": null,
   "metadata": {
    "execution": {
     "iopub.status.busy": "2023-11-28T22:33:36.217636Z",
     "iopub.status.idle": "2023-11-28T22:33:36.217995Z",
     "shell.execute_reply": "2023-11-28T22:33:36.217832Z",
     "shell.execute_reply.started": "2023-11-28T22:33:36.217815Z"
    }
   },
   "outputs": [],
   "source": [
    "!cp /kaggle/input/python-utils/tfexample_decoder.py /kaggle/working/ssd-object-detection/workspace/bugfix\n",
    "!cp /kaggle/working/ssd-object-detection/workspace/bugfix/tfexample_decoder.py /opt/conda/lib/python3.10/site-packages/tf_slim/data/tfexample_decoder.py\n",
    "!diff /kaggle/working/ssd-object-detection/workspace/bugfix/tfexample_decoder.py /opt/conda/lib/python3.10/site-packages/tf_slim/data/tfexample_decoder.py"
   ]
  },
  {
   "cell_type": "markdown",
   "metadata": {},
   "source": [
    "## Training the model"
   ]
  },
  {
   "cell_type": "code",
   "execution_count": null,
   "metadata": {
    "execution": {
     "iopub.status.busy": "2023-11-28T22:33:36.221052Z",
     "iopub.status.idle": "2023-11-28T22:33:36.221435Z",
     "shell.execute_reply": "2023-11-28T22:33:36.221266Z",
     "shell.execute_reply.started": "2023-11-28T22:33:36.221249Z"
    }
   },
   "outputs": [],
   "source": [
    "!cp models/research/object_detection/model_main_tf2.py workspace/training_demo/"
   ]
  },
  {
   "cell_type": "code",
   "execution_count": null,
   "metadata": {
    "execution": {
     "iopub.status.busy": "2023-11-28T22:33:36.223855Z",
     "iopub.status.idle": "2023-11-28T22:33:36.224235Z",
     "shell.execute_reply": "2023-11-28T22:33:36.224042Z",
     "shell.execute_reply.started": "2023-11-28T22:33:36.224026Z"
    }
   },
   "outputs": [],
   "source": [
    "# !python workspace/training_demo/model_main_tf2.py \\\n",
    "# --model_dir=workspace/training_demo/models/ssd_resnet50_v1_fpn \\\n",
    "# --pipeline_config_path=workspace/training_demo/models/ssd_resnet50_v1_fpn/pipeline.config"
   ]
  },
  {
   "cell_type": "markdown",
   "metadata": {},
   "source": [
    "## Compressing the custom model for downloading"
   ]
  },
  {
   "cell_type": "code",
   "execution_count": null,
   "metadata": {
    "execution": {
     "iopub.status.busy": "2023-11-28T22:33:36.225134Z",
     "iopub.status.idle": "2023-11-28T22:33:36.225514Z",
     "shell.execute_reply": "2023-11-28T22:33:36.225349Z",
     "shell.execute_reply.started": "2023-11-28T22:33:36.225331Z"
    }
   },
   "outputs": [],
   "source": [
    "# !zip -r trained-ssd-object-detection.zip /kaggle/working/ssd-object-detection/workspace/training_demo/models"
   ]
  },
  {
   "cell_type": "markdown",
   "metadata": {},
   "source": [
    "## Monitor Training Job Progress using TensorBoard!tensorboard --logdir=workspace/training_demo/models/ssd_resnet50_v1_fpn"
   ]
  },
  {
   "cell_type": "code",
   "execution_count": null,
   "metadata": {
    "execution": {
     "iopub.status.busy": "2023-11-28T22:33:36.231139Z",
     "iopub.status.idle": "2023-11-28T22:33:36.231494Z",
     "shell.execute_reply": "2023-11-28T22:33:36.231332Z",
     "shell.execute_reply.started": "2023-11-28T22:33:36.231316Z"
    }
   },
   "outputs": [],
   "source": [
    "# !tensorboard --logdir=workspace/training_demo/models/ssd_resnet50_v1_fpn"
   ]
  },
  {
   "cell_type": "markdown",
   "metadata": {},
   "source": [
    "## Exporting the Trained Model\n",
    "\n",
    "Copy the models/research/object_detection/exporter_main_v2.py script and paste it straight into your training_demo folder.\n"
   ]
  },
  {
   "cell_type": "code",
   "execution_count": null,
   "metadata": {
    "execution": {
     "iopub.status.busy": "2023-11-28T22:33:36.232404Z",
     "iopub.status.idle": "2023-11-28T22:33:36.232768Z",
     "shell.execute_reply": "2023-11-28T22:33:36.232590Z",
     "shell.execute_reply.started": "2023-11-28T22:33:36.232573Z"
    }
   },
   "outputs": [],
   "source": [
    "!cp models/research/object_detection/exporter_main_v2.py workspace/training_demo/"
   ]
  },
  {
   "cell_type": "code",
   "execution_count": null,
   "metadata": {
    "execution": {
     "iopub.status.busy": "2023-11-28T22:33:36.233734Z",
     "iopub.status.idle": "2023-11-28T22:33:36.234091Z",
     "shell.execute_reply": "2023-11-28T22:33:36.233919Z",
     "shell.execute_reply.started": "2023-11-28T22:33:36.233903Z"
    }
   },
   "outputs": [],
   "source": [
    "!python models/research/object_detection/exporter_main_v2.py \\\n",
    "    --input_type=image_tensor \\\n",
    "    --pipeline_config_path=workspace/training_demo/models/ssd_resnet50_v1_fpn/pipeline.config \\\n",
    "    --trained_checkpoint_dir=workspace/training_demo/models/ssd_resnet50_v1_fpn/ \\\n",
    "    --output_directory=workspace/training_demo/exported-models/my_model\n"
   ]
  },
  {
   "cell_type": "markdown",
   "metadata": {},
   "source": [
    "### Function to load an image and convert it to the format expected by the model"
   ]
  },
  {
   "cell_type": "code",
   "execution_count": null,
   "metadata": {
    "execution": {
     "iopub.status.busy": "2023-11-28T22:33:36.235056Z",
     "iopub.status.idle": "2023-11-28T22:33:36.235410Z",
     "shell.execute_reply": "2023-11-28T22:33:36.235248Z",
     "shell.execute_reply.started": "2023-11-28T22:33:36.235232Z"
    }
   },
   "outputs": [],
   "source": [
    "def load_image_into_numpy_array(path, target_size=(224, 224)):\n",
    "    \"\"\"\n",
    "    Load an image from file and resize it to target_size.\n",
    "    Args:\n",
    "    - path (str): The file path of the image.\n",
    "    - target_size (tuple): The target size to resize the image as (width, height).\n",
    "\n",
    "    Returns:\n",
    "    - numpy.ndarray: The image as a numpy array.\n",
    "    \"\"\"\n",
    "    img_data = tf.io.gfile.GFile(path, 'rb').read()\n",
    "    image = Image.open(BytesIO(img_data))\n",
    "    image = image.resize(target_size) \n",
    "    return np.array(image).astype(np.uint8)"
   ]
  },
  {
   "cell_type": "markdown",
   "metadata": {},
   "source": [
    "### Load the saved model"
   ]
  },
  {
   "cell_type": "code",
   "execution_count": null,
   "metadata": {
    "execution": {
     "iopub.status.busy": "2023-11-28T22:33:36.236450Z",
     "iopub.status.idle": "2023-11-28T22:33:36.236865Z",
     "shell.execute_reply": "2023-11-28T22:33:36.236670Z",
     "shell.execute_reply.started": "2023-11-28T22:33:36.236647Z"
    }
   },
   "outputs": [],
   "source": [
    "!ls workspace/training_demo/exported-models/my_model/saved_model"
   ]
  },
  {
   "cell_type": "code",
   "execution_count": null,
   "metadata": {
    "execution": {
     "iopub.status.busy": "2023-11-28T22:33:36.237907Z",
     "iopub.status.idle": "2023-11-28T22:33:36.238292Z",
     "shell.execute_reply": "2023-11-28T22:33:36.238100Z",
     "shell.execute_reply.started": "2023-11-28T22:33:36.238084Z"
    }
   },
   "outputs": [],
   "source": [
    "model_path = 'workspace/training_demo/exported-models/my_model/saved_model'\n",
    "model = tf.saved_model.load(model_path)"
   ]
  },
  {
   "cell_type": "code",
   "execution_count": null,
   "metadata": {
    "execution": {
     "iopub.status.busy": "2023-11-28T22:33:36.240066Z",
     "iopub.status.idle": "2023-11-28T22:33:36.240450Z",
     "shell.execute_reply": "2023-11-28T22:33:36.240271Z",
     "shell.execute_reply.started": "2023-11-28T22:33:36.240253Z"
    }
   },
   "outputs": [],
   "source": [
    "model"
   ]
  },
  {
   "cell_type": "markdown",
   "metadata": {},
   "source": [
    "## Path to the folder containing images to test"
   ]
  },
  {
   "cell_type": "code",
   "execution_count": null,
   "metadata": {
    "execution": {
     "iopub.status.busy": "2023-11-28T22:33:36.243202Z",
     "iopub.status.idle": "2023-11-28T22:33:36.243574Z",
     "shell.execute_reply": "2023-11-28T22:33:36.243408Z",
     "shell.execute_reply.started": "2023-11-28T22:33:36.243390Z"
    }
   },
   "outputs": [],
   "source": [
    "image_folder_path = '/kaggle/working/ssd-object-detection/workspace/training_demo/images/test'\n",
    "image_paths = [\n",
    "    os.path.join(image_folder_path, fname)\n",
    "    for fname in os.listdir(image_folder_path)\n",
    "    if fname.lower().endswith(('.jpg', '.jpeg', '.png', '.bmp', '.gif')) \n",
    "]"
   ]
  },
  {
   "cell_type": "markdown",
   "metadata": {},
   "source": [
    "## Define a list of labels corresponding to the model's label map"
   ]
  },
  {
   "cell_type": "code",
   "execution_count": null,
   "metadata": {
    "execution": {
     "iopub.status.busy": "2023-11-28T22:33:36.246231Z",
     "iopub.status.idle": "2023-11-28T22:33:36.246658Z",
     "shell.execute_reply": "2023-11-28T22:33:36.246467Z",
     "shell.execute_reply.started": "2023-11-28T22:33:36.246449Z"
    }
   },
   "outputs": [],
   "source": [
    "labels = ['Bicycle', 'cat', 'dog', 'Female', 'Male']"
   ]
  },
  {
   "cell_type": "markdown",
   "metadata": {},
   "source": [
    "## Make inferences"
   ]
  },
  {
   "cell_type": "code",
   "execution_count": null,
   "metadata": {},
   "outputs": [],
   "source": [
    "detection_threshold = 0.5"
   ]
  },
  {
   "cell_type": "code",
   "execution_count": null,
   "metadata": {
    "execution": {
     "iopub.status.busy": "2023-11-28T22:33:36.251130Z",
     "iopub.status.idle": "2023-11-28T22:33:36.251507Z",
     "shell.execute_reply": "2023-11-28T22:33:36.251330Z",
     "shell.execute_reply.started": "2023-11-28T22:33:36.251310Z"
    }
   },
   "outputs": [],
   "source": [
    "# Loop through images and process each one\n",
    "image_paths = random.sample(image_paths, 1)\n",
    "for image_path in image_paths:\n",
    "    image_np = load_image_into_numpy_array(image_path)\n",
    "    input_tensor = tf.convert_to_tensor([image_np], dtype=tf.uint8)\n",
    "\n",
    "    # Run inference\n",
    "    detections = model(input_tensor)\n",
    "\n",
    "    # Extract detection data\n",
    "    detection_boxes = detections['detection_boxes'][0].numpy()\n",
    "    detection_classes = detections['detection_classes'][0].numpy().astype(np.int64)\n",
    "    detection_scores = detections['detection_scores'][0].numpy()\n",
    "\n",
    "    # Visualize the results and save\n",
    "    fig, ax = plt.subplots(figsize=(12, 8))\n",
    "    ax.imshow(image_np)\n",
    "\n",
    "    # Plot detections\n",
    "    for box, cls, score in zip(detection_boxes, detection_classes, detection_scores):\n",
    "        if score > detection_threshold:\n",
    "            y_min, x_min, y_max, x_max = box\n",
    "            x_min, x_max, y_min, y_max = x_min * image_np.shape[1], x_max * image_np.shape[1], y_min * image_np.shape[0], y_max * image_np.shape[0]\n",
    "            rect = patches.Rectangle((x_min, y_min), x_max - x_min, y_max - y_min, linewidth=2, edgecolor='r', facecolor='none')\n",
    "            ax.add_patch(rect)\n",
    "            plt.text(x_min, y_min - 10, f'{labels[cls-1]}: {score:.2f}', color='white', fontsize=12, bbox=dict(facecolor='red', alpha=0.5))\n",
    "\n",
    "    plt.axis('off')\n",
    "    plt.show()\n",
    "    plt.close(fig)"
   ]
  },
  {
   "cell_type": "markdown",
   "metadata": {},
   "source": [
    "## Saving the trained model to be exported to local storage"
   ]
  },
  {
   "cell_type": "code",
   "execution_count": null,
   "metadata": {},
   "outputs": [],
   "source": [
    "!zip /kaggle/working/ssd-object-detection/workspace/training_demo/exported-models/my_model/saved_model.zip /kaggle/working/ssd-object-detection/workspace/training_demo/exported-models/my_model/saved_model"
   ]
  }
 ],
 "metadata": {
  "kaggle": {
   "accelerator": "none",
   "dataSources": [
    {
     "datasetId": 4070752,
     "sourceId": 7069088,
     "sourceType": "datasetVersion"
    },
    {
     "datasetId": 4070754,
     "sourceId": 7069091,
     "sourceType": "datasetVersion"
    },
    {
     "datasetId": 4070756,
     "sourceId": 7069093,
     "sourceType": "datasetVersion"
    }
   ],
   "dockerImageVersionId": 30588,
   "isGpuEnabled": false,
   "isInternetEnabled": true,
   "language": "python",
   "sourceType": "notebook"
  },
  "kernelspec": {
   "display_name": "Python 3 (ipykernel)",
   "language": "python",
   "name": "python3"
  },
  "language_info": {
   "codemirror_mode": {
    "name": "ipython",
    "version": 3
   },
   "file_extension": ".py",
   "mimetype": "text/x-python",
   "name": "python",
   "nbconvert_exporter": "python",
   "pygments_lexer": "ipython3",
   "version": "3.11.4"
  }
 },
 "nbformat": 4,
 "nbformat_minor": 4
}
